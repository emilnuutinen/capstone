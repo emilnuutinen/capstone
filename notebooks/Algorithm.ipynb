{
 "cells": [
  {
   "cell_type": "code",
   "execution_count": 1,
   "id": "540c762b",
   "metadata": {},
   "outputs": [],
   "source": [
    "import numpy as np\n",
    "import pandas as pd\n",
    "import matplotlib.pyplot as plt\n",
    "import glob"
   ]
  },
  {
   "cell_type": "code",
   "execution_count": 2,
   "id": "bc5edb43",
   "metadata": {},
   "outputs": [],
   "source": [
    "import os\n",
    "filename = []\n",
    "list = os.listdir('/Users/HP/Documents/Cap/capstone/notebooks')\n",
    "for f in list:\n",
    "    if \"csv\" in f:\n",
    "        filename.append(f)"
   ]
  },
  {
   "cell_type": "code",
   "execution_count": 3,
   "id": "716cec7a",
   "metadata": {},
   "outputs": [
    {
     "data": {
      "text/plain": [
       "['1814.csv', '1830.csv', '1834.csv', '1848.csv', '1901_fb.csv', '1918_fb.csv']"
      ]
     },
     "execution_count": 3,
     "metadata": {},
     "output_type": "execute_result"
    }
   ],
   "source": [
    "filename"
   ]
  },
  {
   "cell_type": "code",
   "execution_count": 4,
   "id": "4fc71e1c",
   "metadata": {},
   "outputs": [],
   "source": [
    "\n",
    "df = pd.DataFrame()\n",
    "for f in filename:\n",
    "    df_c = pd.read_csv(f)\n",
    "    df=df.append(df_c)\n",
    "\n",
    "    "
   ]
  },
  {
   "cell_type": "code",
   "execution_count": 5,
   "id": "9a76d346",
   "metadata": {},
   "outputs": [],
   "source": [
    "features = df[['hr', 'pat']]\n",
    "target = df[['sbp', 'dbp']]"
   ]
  },
  {
   "cell_type": "code",
   "execution_count": 6,
   "id": "eeb2d675",
   "metadata": {},
   "outputs": [],
   "source": [
    "from sklearn import preprocessing\n",
    "fm_norm = preprocessing.scale(features)"
   ]
  },
  {
   "cell_type": "code",
   "execution_count": 7,
   "id": "d7614dbd",
   "metadata": {},
   "outputs": [
    {
     "data": {
      "text/plain": [
       "(83, 2)"
      ]
     },
     "execution_count": 7,
     "metadata": {},
     "output_type": "execute_result"
    }
   ],
   "source": [
    "fm_norm.shape"
   ]
  },
  {
   "cell_type": "code",
   "execution_count": 8,
   "id": "22b11fc2",
   "metadata": {},
   "outputs": [
    {
     "name": "stdout",
     "output_type": "stream",
     "text": [
      "           sbp        dbp\n",
      "0   106.537500  80.002308\n",
      "1   111.934615  82.893077\n",
      "2   114.816154  84.943077\n",
      "3   113.557857  85.763846\n",
      "4   106.041333  81.635333\n",
      "..         ...        ...\n",
      "17   86.661538  54.647857\n",
      "18   86.303077  54.577500\n",
      "19   85.340909  53.865000\n",
      "20   82.847500  52.957000\n",
      "21   81.151667  53.101429\n",
      "\n",
      "[83 rows x 2 columns]\n",
      "[[106.5375      80.00230769]\n",
      " [111.93461538  82.89307692]\n",
      " [114.81615385  84.94307692]\n",
      " [113.55785714  85.76384615]\n",
      " [106.04133333  81.63533333]\n",
      " [100.555625    77.40266667]\n",
      " [101.326       75.17571429]\n",
      " [102.80153846  74.42583333]\n",
      " [108.237       75.699     ]\n",
      " [115.03166667  79.14333333]\n",
      " [114.50166667  83.78833333]\n",
      " [112.99666667  83.845     ]\n",
      " [109.9         82.60333333]\n",
      " [106.49923077  80.58307692]\n",
      " [101.49933333  76.12642857]\n",
      " [ 99.84        76.454     ]\n",
      " [ 99.80071429  76.685     ]\n",
      " [100.6475      76.69615385]\n",
      " [103.57444444  78.02      ]\n",
      " [104.40333333  76.018     ]\n",
      " [120.54083333  82.35083333]\n",
      " [125.15666667  86.99583333]\n",
      " [127.32        89.42333333]\n",
      " [127.6225      90.99833333]\n",
      " [121.82461538  88.85461538]\n",
      " [117.426       86.68      ]\n",
      " [117.53285714  86.12285714]\n",
      " [119.22384615  84.88692308]\n",
      " [121.838       82.973     ]\n",
      " [124.08833333  82.37333333]\n",
      " [109.54916667  81.91083333]\n",
      " [113.4         85.34666667]\n",
      " [115.48916667  87.71166667]\n",
      " [113.95538462  88.39083333]\n",
      " [107.38923077  83.84461538]\n",
      " [102.77357143  80.01642857]\n",
      " [101.39071429  77.83857143]\n",
      " [100.79692308  74.95769231]\n",
      " [102.621       74.91222222]\n",
      " [103.89833333  74.17833333]\n",
      " [112.23666667  73.14083333]\n",
      " [110.8975      74.04545455]\n",
      " [110.3375      75.066     ]\n",
      " [106.77333333  73.037     ]\n",
      " [103.71461538  71.87181818]\n",
      " [101.16230769  70.50916667]\n",
      " [ 97.41642857  69.16285714]\n",
      " [ 96.93428571  70.00928571]\n",
      " [ 95.43384615  69.84538462]\n",
      " [ 94.47357143  68.08928571]\n",
      " [ 93.48153846  68.07461538]\n",
      " [ 94.595       68.01357143]\n",
      " [ 95.20642857  69.49285714]\n",
      " [ 95.35071429  70.46357143]\n",
      " [ 95.96571429  69.85642857]\n",
      " [ 95.72615385  69.47230769]\n",
      " [ 96.55214286  67.87076923]\n",
      " [ 97.25153846  66.84833333]\n",
      " [ 97.504       65.10083333]\n",
      " [100.11727273  65.01272727]\n",
      " [ 98.99        63.70142857]\n",
      " [103.1525      69.62916667]\n",
      " [100.88166667  65.3225    ]\n",
      " [ 99.43        64.47583333]\n",
      " [ 99.82333333  64.42833333]\n",
      " [ 98.87333333  64.83      ]\n",
      " [ 97.63692308  65.39166667]\n",
      " [ 99.80769231  65.80846154]\n",
      " [ 98.54461538  65.51230769]\n",
      " [ 97.31153846  62.74923077]\n",
      " [ 95.67071429  59.14615385]\n",
      " [ 91.77461538  56.26      ]\n",
      " [ 88.69214286  53.85214286]\n",
      " [ 88.53785714  54.40357143]\n",
      " [ 86.33142857  53.53214286]\n",
      " [ 86.09571429  53.71642857]\n",
      " [ 86.34285714  54.12285714]\n",
      " [ 86.20533333  54.17133333]\n",
      " [ 86.66153846  54.64785714]\n",
      " [ 86.30307692  54.5775    ]\n",
      " [ 85.34090909  53.865     ]\n",
      " [ 82.8475      52.957     ]\n",
      " [ 81.15166667  53.10142857]]\n"
     ]
    }
   ],
   "source": [
    "print(target)\n",
    "print(target.values)"
   ]
  },
  {
   "cell_type": "code",
   "execution_count": 40,
   "id": "83bb6991",
   "metadata": {},
   "outputs": [],
   "source": [
    "def cindex(true_labels, predictions):\n",
    "    n,h = 0,0\n",
    "    \n",
    "    for i in range(1,len(true_labels)):\n",
    "        t = true_labels[i]\n",
    "        p = predictions[i]\n",
    "        for j in range(i+1,len(true_labels)):\n",
    "            nt = true_labels[j]\n",
    "            np = predictions[j]\n",
    "            if t != nt:\n",
    "                n += 1\n",
    "                if (p < np and t < nt) or (p > np and t > nt):\n",
    "                    h += 1\n",
    "                else :\n",
    "                    h += 0.5\n",
    "                    ci = h/n\n",
    "    return ci"
   ]
  },
  {
   "cell_type": "code",
   "execution_count": 41,
   "id": "527c0b40",
   "metadata": {},
   "outputs": [
    {
     "data": {
      "text/plain": [
       "0.9285714285714286"
      ]
     },
     "execution_count": 41,
     "metadata": {},
     "output_type": "execute_result"
    }
   ],
   "source": [
    "cindex([1,1,1,4,5,8], [1,2,3,5,5,8])\n"
   ]
  },
  {
   "cell_type": "code",
   "execution_count": 42,
   "id": "b8f76d82",
   "metadata": {},
   "outputs": [
    {
     "name": "stdout",
     "output_type": "stream",
     "text": [
      "Average MAE SBP: 8.628385398873796 MAE DBP: 9.111342488722784\n",
      "C index SBP: 0.8029208069858477  C index DBP: 0.763855421686747\n"
     ]
    }
   ],
   "source": [
    "from sklearn.model_selection import LeaveOneOut\n",
    "from sklearn.linear_model import LinearRegression\n",
    "from sklearn.metrics import mean_absolute_error\n",
    "loo = LeaveOneOut()\n",
    "X = fm_norm\n",
    "y = target.values\n",
    "sbp_er = []\n",
    "dbp_er = []\n",
    "true_label = []\n",
    "pred_label = []\n",
    "\n",
    "for i, (train_idx, val_idx) in enumerate(loo.split(X)):\n",
    "    X_train, X_test = X[train_idx], X[val_idx]\n",
    "    y_train, y_test = y[train_idx], y[val_idx]\n",
    "    \n",
    "    model = LinearRegression()\n",
    "    model.fit(X_train, y_train)\n",
    "    y_pred = model.predict(X_test)\n",
    "    \n",
    "    mae_sbp = mean_absolute_error(y_pred[:,0], y_test[:,0])\n",
    "    mae_dbp = mean_absolute_error(y_pred[:,1], y_test[:,1])\n",
    "    \n",
    "    sbp_er.append(mae_sbp)\n",
    "    dbp_er.append(mae_dbp)\n",
    "    \n",
    "    true_label.append(y_test)\n",
    "    pred_label.append(y_pred)\n",
    "true = [item for sublist in true_label for item in sublist]\n",
    "pred = [item for sublist in pred_label for item in sublist]\n",
    "\n",
    "true = np.array(true)\n",
    "pred = np.array(pred)\n",
    "\n",
    "cidx_sbp = cindex(true[:,0], pred[:,0])\n",
    "cidx_dbp = cindex(true[:,1], pred[:,1])\n",
    "    \n",
    "print(f\"Average MAE SBP: {np.mean(sbp_er)} MAE DBP: {np.mean(dbp_er)}\")\n",
    "print(f\"C index SBP: {cidx_sbp}  C index DBP: {cidx_dbp}\")"
   ]
  },
  {
   "cell_type": "code",
   "execution_count": 48,
   "id": "2a08617d",
   "metadata": {},
   "outputs": [
    {
     "name": "stdout",
     "output_type": "stream",
     "text": [
      "Average MAE SBP: 8.998776773615443 MAE DBP: 9.72908250345078\n",
      "C index SBP: 0.7925323697681421  C index DBP: 0.7617469879518072\n"
     ]
    }
   ],
   "source": [
    "from sklearn.ensemble import RandomForestRegressor\n",
    "forest = RandomForestRegressor(n_estimators = 80)\n",
    "loo = LeaveOneOut()\n",
    "X = fm_norm\n",
    "y = target.values\n",
    "sbp_er = []\n",
    "dbp_er = []\n",
    "true_label = []\n",
    "pred_label = []\n",
    "\n",
    "for i, (train_idx, val_idx) in enumerate(loo.split(X)):\n",
    "    X_train, X_test = X[train_idx], X[val_idx]\n",
    "    y_train, y_test = y[train_idx], y[val_idx]\n",
    "    \n",
    "\n",
    "    forest.fit(X_train, y_train)\n",
    "    y_pred = forest.predict(X_test)\n",
    "    \n",
    "    mae_sbp = mean_absolute_error(y_pred[:,0], y_test[:,0])\n",
    "    mae_dbp = mean_absolute_error(y_pred[:,1], y_test[:,1])\n",
    "    \n",
    "    sbp_er.append(mae_sbp)\n",
    "    dbp_er.append(mae_dbp)\n",
    "    \n",
    "    true_label.append(y_test)\n",
    "    pred_label.append(y_pred)\n",
    "true = [item for sublist in true_label for item in sublist]\n",
    "pred = [item for sublist in pred_label for item in sublist]\n",
    "\n",
    "true = np.array(true)\n",
    "pred = np.array(pred)\n",
    "\n",
    "cidx_sbp = cindex(true[:,0], pred[:,0])\n",
    "cidx_dbp = cindex(true[:,1], pred[:,1])\n",
    "    \n",
    "print(f\"Average MAE SBP: {np.mean(sbp_er)} MAE DBP: {np.mean(dbp_er)}\")\n",
    "print(f\"C index SBP: {cidx_sbp}  C index DBP: {cidx_dbp}\")\n"
   ]
  },
  {
   "cell_type": "code",
   "execution_count": 52,
   "id": "6bbbddc6",
   "metadata": {},
   "outputs": [
    {
     "name": "stdout",
     "output_type": "stream",
     "text": [
      "Average MAE SBP: 7.806436839221576 MAE DBP: 8.18428939099958\n",
      "C index SBP: 0.8152664859981933  C index DBP: 0.784487951807229\n"
     ]
    }
   ],
   "source": [
    "from sklearn.svm import SVR\n",
    "svr = SVR(kernel = 'rbf', C=10, epsilon = 0.01)\n",
    "X = fm_norm\n",
    "y = target.values\n",
    "sbp_er = []\n",
    "dbp_er = []\n",
    "true_label_sbp = []\n",
    "pred_label_sbp = []\n",
    "\n",
    "true_label_dbp = []\n",
    "pred_label_dbp= []\n",
    "\n",
    "for i, (train_idx, val_idx) in enumerate(loo.split(X)):\n",
    "    X_train, X_test = X[train_idx], X[val_idx]\n",
    "    y_train, y_test = y[train_idx], y[val_idx]\n",
    "    \n",
    "\n",
    "    svr.fit(X_train, y_train[:,0])\n",
    "    y_pred_sbp = svr.predict(X_test)\n",
    "    true_label_sbp.append(y_test[:,0])\n",
    "    pred_label_sbp.append(y_pred_sbp)\n",
    "    \n",
    "    svr.fit(X_train, y_train[:,1])\n",
    "    y_pred_dbp = svr.predict(X_test)\n",
    "    true_label_dbp.append(y_test[:,1])\n",
    "    pred_label_dbp.append(y_pred_dbp)\n",
    "    \n",
    "    mae_sbp = mean_absolute_error(y_pred_sbp, y_test[:,0])\n",
    "    mae_dbp = mean_absolute_error(y_pred_dbp, y_test[:,1])\n",
    "    \n",
    "    sbp_er.append(mae_sbp)\n",
    "    dbp_er.append(mae_dbp)\n",
    "    \n",
    "    \n",
    "    \n",
    "true_sbp = [item for sublist in true_label_sbp for item in sublist]\n",
    "pred_sbp = [item for sublist in pred_label_sbp for item in sublist]\n",
    "\n",
    "true_dbp = [item for sublist in true_label_dbp for item in sublist]\n",
    "pred_dbp = [item for sublist in pred_label_dbp for item in sublist]\n",
    "\n",
    "true_sbp = np.array(true_sbp)\n",
    "pred_sbp = np.array(pred_sbp)\n",
    "\n",
    "true_dbp = np.array(true_dbp)\n",
    "pred_dbp = np.array(pred_dbp)\n",
    "\n",
    "cidx_sbp = cindex(true_sbp, pred_sbp)\n",
    "cidx_dbp = cindex(true_dbp, pred_dbp)\n",
    "    \n",
    "print(f\"Average MAE SBP: {np.mean(sbp_er)} MAE DBP: {np.mean(dbp_er)}\")\n",
    "print(f\"C index SBP: {cidx_sbp}  C index DBP: {cidx_dbp}\")"
   ]
  },
  {
   "cell_type": "code",
   "execution_count": null,
   "id": "13f02341",
   "metadata": {},
   "outputs": [],
   "source": []
  }
 ],
 "metadata": {
  "kernelspec": {
   "display_name": "Python 3 (ipykernel)",
   "language": "python",
   "name": "python3"
  },
  "language_info": {
   "codemirror_mode": {
    "name": "ipython",
    "version": 3
   },
   "file_extension": ".py",
   "mimetype": "text/x-python",
   "name": "python",
   "nbconvert_exporter": "python",
   "pygments_lexer": "ipython3",
   "version": "3.9.7"
  }
 },
 "nbformat": 4,
 "nbformat_minor": 5
}
